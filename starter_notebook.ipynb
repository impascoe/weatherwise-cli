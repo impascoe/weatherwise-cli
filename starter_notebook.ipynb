{
 "cells": [
  {
   "cell_type": "markdown",
   "id": "72e78a05",
   "metadata": {
    "id": "72e78a05"
   },
   "source": [
    "# 🌦️ WeatherWise – Starter Notebook\n",
    "\n",
    "Welcome to your **WeatherWise** project notebook! This scaffold is designed to help you build your weather advisor app using Python, visualisations, and AI-enhanced development.\n",
    "\n",
    "---\n",
    "\n",
    "📄 **Full Assignment Specification**  \n",
    "See [`ASSIGNMENT.md`](ASSIGNMENT.md) or check the LMS for full details.\n",
    "\n",
    "📝 **Quick Refresher**  \n",
    "A one-page summary is available in [`resources/assignment-summary.md`](resources/assignment-summary.md).\n",
    "\n",
    "---\n",
    "\n",
    "🧠 **This Notebook Structure is Optional**  \n",
    "You’re encouraged to reorganise, rename sections, or remove scaffold cells if you prefer — as long as your final version meets the requirements.\n",
    "\n",
    "✅ You may delete this note before submission.\n",
    "\n"
   ]
  },
  {
   "cell_type": "markdown",
   "id": "fa8c7f6c",
   "metadata": {
    "id": "fa8c7f6c"
   },
   "source": [
    "## 🧰 Setup and Imports\n",
    "\n",
    "This section imports commonly used packages and installs any additional tools used in the project.\n",
    "\n",
    "- You may not need all of these unless you're using specific features (e.g. visualisations, advanced prompting).\n",
    "- The notebook assumes the following packages are **pre-installed** in the provided environment or installable via pip:\n",
    "  - `requests`, `matplotlib`, `pyinputplus`\n",
    "  - `fetch-my-weather` (for accessing weather data easily)\n",
    "  - `hands-on-ai` (for AI logging, comparisons, or prompting tools)\n",
    "\n",
    "If you're running this notebook in **Google Colab**, uncomment the following lines to install the required packages.\n"
   ]
  },
  {
   "cell_type": "code",
   "execution_count": null,
   "id": "70c3f3f1",
   "metadata": {
    "id": "70c3f3f1"
   },
   "outputs": [],
   "source": [
    "# 🧪 Optional packages — uncomment if needed in Colab or JupyterHub\n",
    "# !pip install fetch-my-weather\n",
    "# !pip install hands-on-ai\n",
    "\n",
    "# ✅ Import after installing (if needed)\n",
    "# from fetch_my_weather import get_weather\n",
    "# from hands_on_ai import prompt_logger\n"
   ]
  },
  {
   "cell_type": "markdown",
   "id": "59ae7543",
   "metadata": {
    "id": "59ae7543"
   },
   "source": [
    "## 📦 Setup and Configuration\n",
    "Import required packages and setup environment."
   ]
  },
  {
   "cell_type": "code",
   "id": "f1dd051e",
   "metadata": {
    "id": "f1dd051e",
    "ExecuteTime": {
     "end_time": "2025-05-01T06:49:16.344596Z",
     "start_time": "2025-05-01T06:49:16.342535Z"
    }
   },
   "source": [
    "import os\n",
    "\n",
    "import requests\n",
    "import matplotlib.pyplot as plt\n",
    "import pyinputplus as pyip\n",
    "\n",
    "from dotenv import load_dotenv\n",
    "from requests import HTTPError\n",
    "\n",
    "# Load environment variables from .env file\n",
    "load_dotenv()\n",
    "\n",
    "api_key = os.environ.get('OPENWEATHER_API_KEY')\n",
    "\n",
    "# Add any other setup code here\n",
    "if os.environ.get('OPENWEATHER_API_KEY') is None:\n",
    "    print(\"Warning: OPENWEATHER_API_KEY not set. Please set it in your environment variables.\")\n",
    "\n",
    "    # Uncomment and replace with your actual API key if you don't want to use .env file\n",
    "    # os.environ['OPENWEATHER_API_KEY'] = 'your_api_key_here'\n",
    "\n"
   ],
   "outputs": [],
   "execution_count": 53
  },
  {
   "cell_type": "markdown",
   "id": "f736ade3",
   "metadata": {
    "id": "f736ade3"
   },
   "source": [
    "## 🌤️ Weather Data Functions"
   ]
  },
  {
   "cell_type": "code",
   "id": "7a2c7cd0",
   "metadata": {
    "id": "7a2c7cd0",
    "ExecuteTime": {
     "end_time": "2025-05-01T06:58:09.427926Z",
     "start_time": "2025-05-01T06:58:09.425674Z"
    }
   },
   "source": [
    "def get_weather_data(location, forecast_day=5):\n",
    "    \"\"\"\n",
    "    Fetch weather data for a given location and forecast day.\n",
    "\n",
    "    Args:\n",
    "        location (str): The location to fetch weather data for.\n",
    "        forecast_day (int): The number of days to forecast (default is 5).\n",
    "\n",
    "    Returns:\n",
    "        dict: Weather data for the specified location and forecast day.\n",
    "    \"\"\"\n",
    "\n",
    "    # Use OpenWeatherMap API to get weather details from location\n",
    "    try:\n",
    "        if forecast_day < 1:\n",
    "            raise ValueError(\"Forecast day must be at least 1.\")\n",
    "\n",
    "        weather_data_response = requests.get(f'https://api.openweathermap.org/data/2.5/forecast?q={location}&appid={api_key}&cnt={forecast_day}')\n",
    "\n",
    "        # Raise an error for bad responses\n",
    "        if weather_data_response.status_code != 200:\n",
    "            if weather_data_response.status_code == 404:\n",
    "                raise HTTPError(\"Location not found. Please check the location name and try again.\")\n",
    "            else:\n",
    "                raise HTTPError(f\"Error fetching weather data: {weather_data_response.status_code}\")\n",
    "\n",
    "        # Parse the JSON response\n",
    "        weather_data = weather_data_response.json()\n",
    "        # Check if the response contains weather data\n",
    "        print(weather_data)\n",
    "\n",
    "\n",
    "        return None\n",
    "    except ValueError as err:\n",
    "        print(err)\n",
    "        return None\n",
    "    except HTTPError as err:\n",
    "        print(err)\n",
    "        return None"
   ],
   "outputs": [],
   "execution_count": 82
  },
  {
   "cell_type": "markdown",
   "id": "8a744fdc",
   "metadata": {
    "id": "8a744fdc"
   },
   "source": [
    "## 📊 Visualisation Functions"
   ]
  },
  {
   "cell_type": "code",
   "id": "9dc3bf85",
   "metadata": {
    "id": "9dc3bf85",
    "ExecuteTime": {
     "end_time": "2025-05-01T06:49:29.574100Z",
     "start_time": "2025-05-01T06:49:29.571634Z"
    }
   },
   "source": [
    "def create_temperature_visualisation(weather_data, output_type='display'):\n",
    "    \"\"\"\n",
    "    Create visualisation of temperature data.\n",
    "\n",
    "    Args:\n",
    "        weather_data (dict): The processed weather data\n",
    "        output_type (str): Either 'display' to show in notebook or 'figure' to return the figure\n",
    "\n",
    "    Returns:\n",
    "        If output_type is 'figure', returns the matplotlib figure object\n",
    "        Otherwise, displays the visualisation in the notebook\n",
    "    \"\"\"\n",
    "    # Extract temperature data from the weather data\n",
    "    try:\n",
    "        max_temps = [day['maxtempC'] for day in weather_data['weather']]\n",
    "        min_temps = [day['mintempC'] for day in weather_data['weather']]\n",
    "        dates = [day['date'] for day in weather_data['weather']]\n",
    "\n",
    "        # Create a plot\n",
    "        plt.figure(figsize=(10, 5))\n",
    "        plt.plot(dates, max_temps, label='Max Temperature (°C)', marker='o')\n",
    "        plt.plot(dates, min_temps, label='Min Temperature (°C)', marker='o')\n",
    "        plt.title('Temperature Forecast')\n",
    "        plt.xlabel('Date')\n",
    "        plt.ylabel('Temperature (°C)')\n",
    "        plt.xticks(rotation=45)\n",
    "        plt.legend()\n",
    "\n",
    "        if output_type == 'display':\n",
    "            plt.show()\n",
    "            return None\n",
    "        else:\n",
    "            return plt.gcf()  # Return the figure object\n",
    "    except KeyError as e:\n",
    "        print(f\"Error processing weather data: {e}\")\n",
    "        return None\n",
    "\n",
    "\n",
    "def create_precipitation_visualisation():\n",
    "    pass"
   ],
   "outputs": [],
   "execution_count": 54
  },
  {
   "cell_type": "markdown",
   "id": "9f95d160",
   "metadata": {
    "id": "9f95d160"
   },
   "source": [
    "## 🤖 Natural Language Processing"
   ]
  },
  {
   "cell_type": "code",
   "execution_count": null,
   "id": "bcc5833e",
   "metadata": {
    "id": "bcc5833e"
   },
   "outputs": [],
   "source": [
    "# Define parse_weather_question() and generate_weather_response() here"
   ]
  },
  {
   "cell_type": "markdown",
   "id": "0d85225e",
   "metadata": {
    "id": "0d85225e"
   },
   "source": [
    "## 🧭 User Interface"
   ]
  },
  {
   "cell_type": "code",
   "execution_count": null,
   "id": "fa6cb0f6",
   "metadata": {
    "id": "fa6cb0f6"
   },
   "outputs": [],
   "source": [
    "# Define menu functions using pyinputplus or ipywidgets here"
   ]
  },
  {
   "cell_type": "markdown",
   "id": "d643a53c",
   "metadata": {
    "id": "d643a53c"
   },
   "source": [
    "## 🧩 Main Application Logic"
   ]
  },
  {
   "cell_type": "code",
   "execution_count": null,
   "id": "a9e2e805",
   "metadata": {
    "id": "a9e2e805"
   },
   "outputs": [],
   "source": [
    "# Tie everything together here"
   ]
  },
  {
   "cell_type": "markdown",
   "id": "fde44479",
   "metadata": {
    "id": "fde44479"
   },
   "source": [
    "## 🧪 Testing and Examples"
   ]
  },
  {
   "cell_type": "code",
   "id": "4e573901",
   "metadata": {
    "id": "4e573901",
    "ExecuteTime": {
     "end_time": "2025-05-01T06:58:15.809368Z",
     "start_time": "2025-05-01T06:58:15.807763Z"
    }
   },
   "source": [
    "# Include sample input/output for each function\n",
    "\n",
    "_weather_data = get_weather_data(\"dfghdft\", forecast_day=0)\n",
    "# create_temperature_visualisation(weather_data, output_type='display')"
   ],
   "outputs": [
    {
     "name": "stdout",
     "output_type": "stream",
     "text": [
      "Forecast day must be at least 1.\n"
     ]
    }
   ],
   "execution_count": 83
  },
  {
   "cell_type": "markdown",
   "id": "d2885880",
   "metadata": {
    "id": "d2885880"
   },
   "source": [
    "## 🗂️ AI Prompting Log (Optional)\n",
    "Add markdown cells here summarising prompts used or link to AI conversations in the `ai-conversations/` folder."
   ]
  }
 ],
 "metadata": {
  "language_info": {
   "name": "python"
  },
  "colab": {
   "provenance": [],
   "include_colab_link": true
  }
 },
 "nbformat": 4,
 "nbformat_minor": 5
}
