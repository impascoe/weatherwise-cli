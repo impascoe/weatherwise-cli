{
 "cells": [
  {
   "cell_type": "markdown",
   "id": "72e78a05",
   "metadata": {
    "id": "72e78a05"
   },
   "source": [
    "# 🌦️ WeatherWise – Starter Notebook\n",
    "\n",
    "Welcome to your **WeatherWise** project notebook! This scaffold is designed to help you build your weather advisor app using Python, visualisations, and AI-enhanced development.\n",
    "\n",
    "---\n",
    "\n",
    "📄 **Full Assignment Specification**  \n",
    "See [`ASSIGNMENT.md`](ASSIGNMENT.md) or check the LMS for full details.\n",
    "\n",
    "📝 **Quick Refresher**  \n",
    "A one-page summary is available in [`resources/assignment-summary.md`](resources/assignment-summary.md).\n",
    "\n",
    "---\n",
    "\n",
    "🧠 **This Notebook Structure is Optional**  \n",
    "You’re encouraged to reorganise, rename sections, or remove scaffold cells if you prefer — as long as your final version meets the requirements.\n",
    "\n",
    "✅ You may delete this note before submission.\n",
    "\n"
   ]

  "colab": {
   "provenance": [],
   "include_colab_link": true
  }
 },
 "nbformat": 4,
 "nbformat_minor": 5
}
