{
 "cells": [
  {
   "cell_type": "markdown",
   "metadata": {
    "id": "view-in-github",
    "colab_type": "text"
   },
   "source": [
    "<a href=\"https://colab.research.google.com/github/michael-borck/weatherwise-template/blob/main/starter_notebook.ipynb\" target=\"_parent\"><img src=\"https://colab.research.google.com/assets/colab-badge.svg\" alt=\"Open In Colab\"/></a>"
   ],
   "id": "c01608a0a1fa80c6"
  },
  {
   "cell_type": "markdown",
   "id": "72e78a05",
   "metadata": {
    "id": "72e78a05"
   },
   "source": [
    "# 🌦️ WeatherWise – Starter Notebook\n",
    "\n",
    "Welcome to your **WeatherWise** project notebook! This scaffold is designed to help you build your weather advisor app using Python, visualisations, and AI-enhanced development.\n",
    "\n",
    "---\n",
    "\n",
    "📄 **Full Assignment Specification**  \n",
    "See [`ASSIGNMENT.md`](ASSIGNMENT.md) or check the LMS for full details.\n",
    "\n",
    "📝 **Quick Refresher**  \n",
    "A one-page summary is available in [`resources/assignment-summary.md`](resources/assignment-summary.md).\n",
    "\n",
    "---\n",
    "\n",
    "🧠 **This Notebook Structure is Optional**  \n",
    "You’re encouraged to reorganise, rename sections, or remove scaffold cells if you prefer — as long as your final version meets the requirements.\n",
    "\n",
    "✅ You may delete this note before submission.\n",
    "\n"
   ]
  },
  {
   "cell_type": "markdown",
   "id": "fa8c7f6c",
   "metadata": {
    "id": "fa8c7f6c"
   },
   "source": [
    "## 🧰 Setup and Imports\n",
    "\n",
    "This section imports commonly used packages and installs any additional tools used in the project.\n",
    "\n",
    "- You may not need all of these unless you're using specific features (e.g. visualisations, advanced prompting).\n",
    "- The notebook assumes the following packages are **pre-installed** in the provided environment or installable via pip:\n",
    "  - `requests`, `matplotlib`, `pyinputplus`\n",
    "  - `fetch-my-weather` (for accessing weather data easily)\n",
    "  - `hands-on-ai` (for AI logging, comparisons, or prompting tools)\n",
    "\n",
    "If you're running this notebook in **Google Colab**, uncomment the following lines to install the required packages.\n"
   ]
  },
  {
   "cell_type": "code",
   "id": "70c3f3f1",
   "metadata": {
    "id": "70c3f3f1",
    "ExecuteTime": {
     "end_time": "2025-04-28T08:21:22.558413Z",
     "start_time": "2025-04-28T08:20:33.445034Z"
    }
   },
   "source": [
    "# 🧪 Optional packages — uncomment if needed in Colab or JupyterHub\n",
    "!pip install fetch-my-weather\n",
    "!pip install hands-on-ai\n",
    "\n",
    "# ✅ Import after installing (if needed)\n",
    "# from fetch_my_weather import get_weather\n",
    "# from hands_on_ai import prompt_logger\n"
   ],
   "outputs": [
    {
     "name": "stdout",
     "output_type": "stream",
     "text": [
      "Collecting fetch-my-weather\r\n",
      "  Downloading fetch_my_weather-0.4.0-py3-none-any.whl.metadata (12 kB)\r\n",
      "Requirement already satisfied: requests>=2.25.0 in ./.venv/lib/python3.13/site-packages (from fetch-my-weather) (2.32.3)\r\n",
      "Collecting pydantic>=1.8.0 (from fetch-my-weather)\r\n",
      "  Downloading pydantic-2.11.3-py3-none-any.whl.metadata (65 kB)\r\n",
      "Collecting annotated-types>=0.6.0 (from pydantic>=1.8.0->fetch-my-weather)\r\n",
      "  Downloading annotated_types-0.7.0-py3-none-any.whl.metadata (15 kB)\r\n",
      "Collecting pydantic-core==2.33.1 (from pydantic>=1.8.0->fetch-my-weather)\r\n",
      "  Downloading pydantic_core-2.33.1-cp313-cp313-manylinux_2_17_aarch64.manylinux2014_aarch64.whl.metadata (6.8 kB)\r\n",
      "Requirement already satisfied: typing-extensions>=4.12.2 in ./.venv/lib/python3.13/site-packages (from pydantic>=1.8.0->fetch-my-weather) (4.13.2)\r\n",
      "Collecting typing-inspection>=0.4.0 (from pydantic>=1.8.0->fetch-my-weather)\r\n",
      "  Downloading typing_inspection-0.4.0-py3-none-any.whl.metadata (2.6 kB)\r\n",
      "Requirement already satisfied: charset-normalizer<4,>=2 in ./.venv/lib64/python3.13/site-packages (from requests>=2.25.0->fetch-my-weather) (3.4.1)\r\n",
      "Requirement already satisfied: idna<4,>=2.5 in ./.venv/lib/python3.13/site-packages (from requests>=2.25.0->fetch-my-weather) (3.10)\r\n",
      "Requirement already satisfied: urllib3<3,>=1.21.1 in ./.venv/lib/python3.13/site-packages (from requests>=2.25.0->fetch-my-weather) (2.4.0)\r\n",
      "Requirement already satisfied: certifi>=2017.4.17 in ./.venv/lib/python3.13/site-packages (from requests>=2.25.0->fetch-my-weather) (2025.4.26)\r\n",
      "Downloading fetch_my_weather-0.4.0-py3-none-any.whl (17 kB)\r\n",
      "Downloading pydantic-2.11.3-py3-none-any.whl (443 kB)\r\n",
      "Downloading pydantic_core-2.33.1-cp313-cp313-manylinux_2_17_aarch64.manylinux2014_aarch64.whl (1.9 MB)\r\n",
      "\u001B[2K   \u001B[90m━━━━━━━━━━━━━━━━━━━━━━━━━━━━━━━━━━━━━━━━\u001B[0m \u001B[32m1.9/1.9 MB\u001B[0m \u001B[31m20.4 MB/s\u001B[0m eta \u001B[36m0:00:00\u001B[0m\r\n",
      "\u001B[?25hDownloading annotated_types-0.7.0-py3-none-any.whl (13 kB)\r\n",
      "Downloading typing_inspection-0.4.0-py3-none-any.whl (14 kB)\r\n",
      "Installing collected packages: typing-inspection, pydantic-core, annotated-types, pydantic, fetch-my-weather\r\n",
      "Successfully installed annotated-types-0.7.0 fetch-my-weather-0.4.0 pydantic-2.11.3 pydantic-core-2.33.1 typing-inspection-0.4.0\r\n",
      "\r\n",
      "\u001B[1m[\u001B[0m\u001B[34;49mnotice\u001B[0m\u001B[1;39;49m]\u001B[0m\u001B[39;49m A new release of pip is available: \u001B[0m\u001B[31;49m25.0.1\u001B[0m\u001B[39;49m -> \u001B[0m\u001B[32;49m25.1\u001B[0m\r\n",
      "\u001B[1m[\u001B[0m\u001B[34;49mnotice\u001B[0m\u001B[1;39;49m]\u001B[0m\u001B[39;49m To update, run: \u001B[0m\u001B[32;49mpip install --upgrade pip\u001B[0m\r\n",
      "Collecting hands-on-ai\r\n",
      "  Downloading hands_on_ai-0.1.9-py3-none-any.whl.metadata (4.7 kB)\r\n",
      "Requirement already satisfied: requests in ./.venv/lib/python3.13/site-packages (from hands-on-ai) (2.32.3)\r\n",
      "Collecting typer (from hands-on-ai)\r\n",
      "  Downloading typer-0.15.2-py3-none-any.whl.metadata (15 kB)\r\n",
      "Collecting python-fasthtml (from hands-on-ai)\r\n",
      "  Downloading python_fasthtml-0.12.14-py3-none-any.whl.metadata (9.3 kB)\r\n",
      "Collecting python-docx (from hands-on-ai)\r\n",
      "  Downloading python_docx-1.1.2-py3-none-any.whl.metadata (2.0 kB)\r\n",
      "Collecting pymupdf (from hands-on-ai)\r\n",
      "  Downloading pymupdf-1.25.5-cp39-abi3-manylinux2014_aarch64.manylinux_2_17_aarch64.whl.metadata (3.4 kB)\r\n",
      "Collecting scikit-learn (from hands-on-ai)\r\n",
      "  Downloading scikit_learn-1.6.1-cp313-cp313-manylinux_2_17_aarch64.manylinux2014_aarch64.whl.metadata (18 kB)\r\n",
      "Requirement already satisfied: numpy in ./.venv/lib64/python3.13/site-packages (from hands-on-ai) (2.2.5)\r\n",
      "Collecting lxml>=3.1.0 (from python-docx->hands-on-ai)\r\n",
      "  Downloading lxml-5.4.0-cp313-cp313-manylinux_2_28_aarch64.whl.metadata (3.5 kB)\r\n",
      "Requirement already satisfied: typing-extensions>=4.9.0 in ./.venv/lib/python3.13/site-packages (from python-docx->hands-on-ai) (4.13.2)\r\n",
      "Collecting fastcore>=1.8.1 (from python-fasthtml->hands-on-ai)\r\n",
      "  Downloading fastcore-1.8.1-py3-none-any.whl.metadata (3.7 kB)\r\n",
      "Requirement already satisfied: python-dateutil in ./.venv/lib/python3.13/site-packages (from python-fasthtml->hands-on-ai) (2.9.0.post0)\r\n",
      "Collecting starlette>0.33 (from python-fasthtml->hands-on-ai)\r\n",
      "  Downloading starlette-0.46.2-py3-none-any.whl.metadata (6.2 kB)\r\n",
      "Collecting oauthlib (from python-fasthtml->hands-on-ai)\r\n",
      "  Downloading oauthlib-3.2.2-py3-none-any.whl.metadata (7.5 kB)\r\n",
      "Collecting itsdangerous (from python-fasthtml->hands-on-ai)\r\n",
      "  Downloading itsdangerous-2.2.0-py3-none-any.whl.metadata (1.9 kB)\r\n",
      "Collecting uvicorn>=0.30 (from uvicorn[standard]>=0.30->python-fasthtml->hands-on-ai)\r\n",
      "  Downloading uvicorn-0.34.2-py3-none-any.whl.metadata (6.5 kB)\r\n",
      "Requirement already satisfied: httpx in ./.venv/lib/python3.13/site-packages (from python-fasthtml->hands-on-ai) (0.28.1)\r\n",
      "Collecting fastlite>=0.1.1 (from python-fasthtml->hands-on-ai)\r\n",
      "  Downloading fastlite-0.1.3-py3-none-any.whl.metadata (11 kB)\r\n",
      "Collecting python-multipart (from python-fasthtml->hands-on-ai)\r\n",
      "  Downloading python_multipart-0.0.20-py3-none-any.whl.metadata (1.8 kB)\r\n",
      "Requirement already satisfied: beautifulsoup4 in ./.venv/lib/python3.13/site-packages (from python-fasthtml->hands-on-ai) (4.13.4)\r\n",
      "Requirement already satisfied: charset-normalizer<4,>=2 in ./.venv/lib64/python3.13/site-packages (from requests->hands-on-ai) (3.4.1)\r\n",
      "Requirement already satisfied: idna<4,>=2.5 in ./.venv/lib/python3.13/site-packages (from requests->hands-on-ai) (3.10)\r\n",
      "Requirement already satisfied: urllib3<3,>=1.21.1 in ./.venv/lib/python3.13/site-packages (from requests->hands-on-ai) (2.4.0)\r\n",
      "Requirement already satisfied: certifi>=2017.4.17 in ./.venv/lib/python3.13/site-packages (from requests->hands-on-ai) (2025.4.26)\r\n",
      "Collecting scipy>=1.6.0 (from scikit-learn->hands-on-ai)\r\n",
      "  Downloading scipy-1.15.2-cp313-cp313-manylinux_2_17_aarch64.manylinux2014_aarch64.whl.metadata (61 kB)\r\n",
      "Collecting joblib>=1.2.0 (from scikit-learn->hands-on-ai)\r\n",
      "  Downloading joblib-1.4.2-py3-none-any.whl.metadata (5.4 kB)\r\n",
      "Collecting threadpoolctl>=3.1.0 (from scikit-learn->hands-on-ai)\r\n",
      "  Downloading threadpoolctl-3.6.0-py3-none-any.whl.metadata (13 kB)\r\n",
      "Collecting click>=8.0.0 (from typer->hands-on-ai)\r\n",
      "  Downloading click-8.1.8-py3-none-any.whl.metadata (2.3 kB)\r\n",
      "Collecting shellingham>=1.3.0 (from typer->hands-on-ai)\r\n",
      "  Downloading shellingham-1.5.4-py2.py3-none-any.whl.metadata (3.5 kB)\r\n",
      "Collecting rich>=10.11.0 (from typer->hands-on-ai)\r\n",
      "  Downloading rich-14.0.0-py3-none-any.whl.metadata (18 kB)\r\n",
      "Requirement already satisfied: packaging in ./.venv/lib/python3.13/site-packages (from fastcore>=1.8.1->python-fasthtml->hands-on-ai) (25.0)\r\n",
      "Collecting apswutils>=0.0.2 (from fastlite>=0.1.1->python-fasthtml->hands-on-ai)\r\n",
      "  Downloading apswutils-0.0.2-py3-none-any.whl.metadata (7.1 kB)\r\n",
      "Collecting markdown-it-py>=2.2.0 (from rich>=10.11.0->typer->hands-on-ai)\r\n",
      "  Downloading markdown_it_py-3.0.0-py3-none-any.whl.metadata (6.9 kB)\r\n",
      "Requirement already satisfied: pygments<3.0.0,>=2.13.0 in ./.venv/lib/python3.13/site-packages (from rich>=10.11.0->typer->hands-on-ai) (2.19.1)\r\n",
      "Requirement already satisfied: anyio<5,>=3.6.2 in ./.venv/lib/python3.13/site-packages (from starlette>0.33->python-fasthtml->hands-on-ai) (4.9.0)\r\n",
      "Requirement already satisfied: h11>=0.8 in ./.venv/lib/python3.13/site-packages (from uvicorn>=0.30->uvicorn[standard]>=0.30->python-fasthtml->hands-on-ai) (0.16.0)\r\n",
      "Collecting httptools>=0.6.3 (from uvicorn[standard]>=0.30->python-fasthtml->hands-on-ai)\r\n",
      "  Downloading httptools-0.6.4-cp313-cp313-manylinux_2_17_aarch64.manylinux2014_aarch64.whl.metadata (3.6 kB)\r\n",
      "Collecting python-dotenv>=0.13 (from uvicorn[standard]>=0.30->python-fasthtml->hands-on-ai)\r\n",
      "  Downloading python_dotenv-1.1.0-py3-none-any.whl.metadata (24 kB)\r\n",
      "Requirement already satisfied: pyyaml>=5.1 in ./.venv/lib64/python3.13/site-packages (from uvicorn[standard]>=0.30->python-fasthtml->hands-on-ai) (6.0.2)\r\n",
      "Collecting uvloop!=0.15.0,!=0.15.1,>=0.14.0 (from uvicorn[standard]>=0.30->python-fasthtml->hands-on-ai)\r\n",
      "  Downloading uvloop-0.21.0-cp313-cp313-manylinux_2_17_aarch64.manylinux2014_aarch64.whl.metadata (4.9 kB)\r\n",
      "Collecting watchfiles>=0.13 (from uvicorn[standard]>=0.30->python-fasthtml->hands-on-ai)\r\n",
      "  Downloading watchfiles-1.0.5-cp313-cp313-manylinux_2_17_aarch64.manylinux2014_aarch64.whl.metadata (4.9 kB)\r\n",
      "Collecting websockets>=10.4 (from uvicorn[standard]>=0.30->python-fasthtml->hands-on-ai)\r\n",
      "  Downloading websockets-15.0.1-cp313-cp313-manylinux_2_17_aarch64.manylinux2014_aarch64.whl.metadata (6.8 kB)\r\n",
      "Requirement already satisfied: soupsieve>1.2 in ./.venv/lib/python3.13/site-packages (from beautifulsoup4->python-fasthtml->hands-on-ai) (2.7)\r\n",
      "Requirement already satisfied: httpcore==1.* in ./.venv/lib/python3.13/site-packages (from httpx->python-fasthtml->hands-on-ai) (1.0.9)\r\n",
      "Requirement already satisfied: six>=1.5 in ./.venv/lib/python3.13/site-packages (from python-dateutil->python-fasthtml->hands-on-ai) (1.17.0)\r\n",
      "Requirement already satisfied: sniffio>=1.1 in ./.venv/lib/python3.13/site-packages (from anyio<5,>=3.6.2->starlette>0.33->python-fasthtml->hands-on-ai) (1.3.1)\r\n",
      "Collecting apsw (from apswutils>=0.0.2->fastlite>=0.1.1->python-fasthtml->hands-on-ai)\r\n",
      "  Downloading apsw-3.49.1.0-cp313-cp313-manylinux_2_17_aarch64.manylinux2014_aarch64.whl.metadata (3.7 kB)\r\n",
      "Collecting mdurl~=0.1 (from markdown-it-py>=2.2.0->rich>=10.11.0->typer->hands-on-ai)\r\n",
      "  Downloading mdurl-0.1.2-py3-none-any.whl.metadata (1.6 kB)\r\n",
      "Downloading hands_on_ai-0.1.9-py3-none-any.whl (132 kB)\r\n",
      "Downloading pymupdf-1.25.5-cp39-abi3-manylinux2014_aarch64.manylinux_2_17_aarch64.whl (19.5 MB)\r\n",
      "\u001B[2K   \u001B[90m━━━━━━━━━━━━━━━━━━━━━━━━━━━━━━━━━━━━━━━━\u001B[0m \u001B[32m19.5/19.5 MB\u001B[0m \u001B[31m3.6 MB/s\u001B[0m eta \u001B[36m0:00:00\u001B[0ma \u001B[36m0:00:01\u001B[0m\r\n",
      "\u001B[?25hDownloading python_docx-1.1.2-py3-none-any.whl (244 kB)\r\n",
      "Downloading python_fasthtml-0.12.14-py3-none-any.whl (65 kB)\r\n",
      "Downloading scikit_learn-1.6.1-cp313-cp313-manylinux_2_17_aarch64.manylinux2014_aarch64.whl (12.2 MB)\r\n",
      "\u001B[2K   \u001B[90m━━━━━━━━━━━━━━━━━━━━━━━━━━━━━━━━━━━━━━━━\u001B[0m \u001B[32m12.2/12.2 MB\u001B[0m \u001B[31m3.9 MB/s\u001B[0m eta \u001B[36m0:00:00\u001B[0ma \u001B[36m0:00:01\u001B[0m\r\n",
      "\u001B[?25hDownloading typer-0.15.2-py3-none-any.whl (45 kB)\r\n",
      "Downloading click-8.1.8-py3-none-any.whl (98 kB)\r\n",
      "Downloading fastcore-1.8.1-py3-none-any.whl (78 kB)\r\n",
      "Downloading fastlite-0.1.3-py3-none-any.whl (17 kB)\r\n",
      "Downloading joblib-1.4.2-py3-none-any.whl (301 kB)\r\n",
      "Downloading lxml-5.4.0-cp313-cp313-manylinux_2_28_aarch64.whl (4.8 MB)\r\n",
      "\u001B[2K   \u001B[90m━━━━━━━━━━━━━━━━━━━━━━━━━━━━━━━━━━━━━━━━\u001B[0m \u001B[32m4.8/4.8 MB\u001B[0m \u001B[31m12.3 MB/s\u001B[0m eta \u001B[36m0:00:00\u001B[0ma \u001B[36m0:00:01\u001B[0m\r\n",
      "\u001B[?25hDownloading rich-14.0.0-py3-none-any.whl (243 kB)\r\n",
      "Downloading scipy-1.15.2-cp313-cp313-manylinux_2_17_aarch64.manylinux2014_aarch64.whl (35.2 MB)\r\n",
      "\u001B[2K   \u001B[90m━━━━━━━━━━━━━━━━━━━━━━━━━━━━━━━━━━━━━━━━\u001B[0m \u001B[32m35.2/35.2 MB\u001B[0m \u001B[31m3.8 MB/s\u001B[0m eta \u001B[36m0:00:00\u001B[0m00:01\u001B[0m00:01\u001B[0m\r\n",
      "\u001B[?25hDownloading shellingham-1.5.4-py2.py3-none-any.whl (9.8 kB)\r\n",
      "Downloading starlette-0.46.2-py3-none-any.whl (72 kB)\r\n",
      "Downloading threadpoolctl-3.6.0-py3-none-any.whl (18 kB)\r\n",
      "Downloading uvicorn-0.34.2-py3-none-any.whl (62 kB)\r\n",
      "Downloading itsdangerous-2.2.0-py3-none-any.whl (16 kB)\r\n",
      "Downloading oauthlib-3.2.2-py3-none-any.whl (151 kB)\r\n",
      "Downloading python_multipart-0.0.20-py3-none-any.whl (24 kB)\r\n",
      "Downloading apswutils-0.0.2-py3-none-any.whl (80 kB)\r\n",
      "Downloading httptools-0.6.4-cp313-cp313-manylinux_2_17_aarch64.manylinux2014_aarch64.whl (473 kB)\r\n",
      "Downloading markdown_it_py-3.0.0-py3-none-any.whl (87 kB)\r\n",
      "Downloading python_dotenv-1.1.0-py3-none-any.whl (20 kB)\r\n",
      "Downloading uvloop-0.21.0-cp313-cp313-manylinux_2_17_aarch64.manylinux2014_aarch64.whl (4.6 MB)\r\n",
      "\u001B[2K   \u001B[90m━━━━━━━━━━━━━━━━━━━━━━━━━━━━━━━━━━━━━━━━\u001B[0m \u001B[32m4.6/4.6 MB\u001B[0m \u001B[31m4.8 MB/s\u001B[0m eta \u001B[36m0:00:00\u001B[0ma \u001B[36m0:00:01\u001B[0mm\r\n",
      "\u001B[?25hDownloading watchfiles-1.0.5-cp313-cp313-manylinux_2_17_aarch64.manylinux2014_aarch64.whl (453 kB)\r\n",
      "Downloading websockets-15.0.1-cp313-cp313-manylinux_2_17_aarch64.manylinux2014_aarch64.whl (183 kB)\r\n",
      "Downloading mdurl-0.1.2-py3-none-any.whl (10.0 kB)\r\n",
      "Downloading apsw-3.49.1.0-cp313-cp313-manylinux_2_17_aarch64.manylinux2014_aarch64.whl (6.5 MB)\r\n",
      "\u001B[2K   \u001B[90m━━━━━━━━━━━━━━━━━━━━━━━━━━━━━━━━━━━━━━━━\u001B[0m \u001B[32m6.5/6.5 MB\u001B[0m \u001B[31m3.9 MB/s\u001B[0m eta \u001B[36m0:00:00\u001B[0ma \u001B[36m0:00:01\u001B[0mm\r\n",
      "\u001B[?25hInstalling collected packages: websockets, uvloop, threadpoolctl, shellingham, scipy, python-multipart, python-dotenv, pymupdf, oauthlib, mdurl, lxml, joblib, itsdangerous, httptools, fastcore, click, apsw, watchfiles, uvicorn, starlette, scikit-learn, python-docx, markdown-it-py, apswutils, rich, fastlite, typer, python-fasthtml, hands-on-ai\r\n",
      "Successfully installed apsw-3.49.1.0 apswutils-0.0.2 click-8.1.8 fastcore-1.8.1 fastlite-0.1.3 hands-on-ai-0.1.9 httptools-0.6.4 itsdangerous-2.2.0 joblib-1.4.2 lxml-5.4.0 markdown-it-py-3.0.0 mdurl-0.1.2 oauthlib-3.2.2 pymupdf-1.25.5 python-docx-1.1.2 python-dotenv-1.1.0 python-fasthtml-0.12.14 python-multipart-0.0.20 rich-14.0.0 scikit-learn-1.6.1 scipy-1.15.2 shellingham-1.5.4 starlette-0.46.2 threadpoolctl-3.6.0 typer-0.15.2 uvicorn-0.34.2 uvloop-0.21.0 watchfiles-1.0.5 websockets-15.0.1\r\n",
      "\r\n",
      "\u001B[1m[\u001B[0m\u001B[34;49mnotice\u001B[0m\u001B[1;39;49m]\u001B[0m\u001B[39;49m A new release of pip is available: \u001B[0m\u001B[31;49m25.0.1\u001B[0m\u001B[39;49m -> \u001B[0m\u001B[32;49m25.1\u001B[0m\r\n",
      "\u001B[1m[\u001B[0m\u001B[34;49mnotice\u001B[0m\u001B[1;39;49m]\u001B[0m\u001B[39;49m To update, run: \u001B[0m\u001B[32;49mpip install --upgrade pip\u001B[0m\r\n"
     ]
    }
   ],
   "execution_count": 1
  },
  {
   "cell_type": "markdown",
   "id": "59ae7543",
   "metadata": {
    "id": "59ae7543"
   },
   "source": [
    "## 📦 Setup and Configuration\n",
    "Import required packages and setup environment."
   ]
  },
  {
   "cell_type": "code",
   "id": "f1dd051e",
   "metadata": {
    "id": "f1dd051e",
    "ExecuteTime": {
     "end_time": "2025-04-28T08:27:28.499893Z",
     "start_time": "2025-04-28T08:27:27.897075Z"
    }
   },
   "source": [
    "import requests\n",
    "import matplotlib.pyplot as plt\n",
    "import pyinputplus as pyip\n",
    "\n",
    "# Add any other setup code here"
   ],
   "outputs": [],
   "execution_count": 2
  },
  {
   "cell_type": "markdown",
   "id": "f736ade3",
   "metadata": {
    "id": "f736ade3"
   },
   "source": [
    "## 🌤️ Weather Data Functions"
   ]
  },
  {
   "cell_type": "code",
   "execution_count": null,
   "id": "7a2c7cd0",
   "metadata": {
    "id": "7a2c7cd0"
   },
   "outputs": [],
   "source": [
    "# Define get_weather_data() function here"
   ]
  },
  {
   "cell_type": "markdown",
   "id": "8a744fdc",
   "metadata": {
    "id": "8a744fdc"
   },
   "source": [
    "## 📊 Visualisation Functions"
   ]
  },
  {
   "cell_type": "code",
   "execution_count": null,
   "id": "9dc3bf85",
   "metadata": {
    "id": "9dc3bf85"
   },
   "outputs": [],
   "source": [
    "# Define create_temperature_visualisation() and create_precipitation_visualisation() here"
   ]
  },
  {
   "cell_type": "markdown",
   "id": "9f95d160",
   "metadata": {
    "id": "9f95d160"
   },
   "source": [
    "## 🤖 Natural Language Processing"
   ]
  },
  {
   "cell_type": "code",
   "execution_count": null,
   "id": "bcc5833e",
   "metadata": {
    "id": "bcc5833e"
   },
   "outputs": [],
   "source": [
    "# Define parse_weather_question() and generate_weather_response() here"
   ]
  },
  {
   "cell_type": "markdown",
   "id": "0d85225e",
   "metadata": {
    "id": "0d85225e"
   },
   "source": [
    "## 🧭 User Interface"
   ]
  },
  {
   "cell_type": "code",
   "execution_count": null,
   "id": "fa6cb0f6",
   "metadata": {
    "id": "fa6cb0f6"
   },
   "outputs": [],
   "source": [
    "# Define menu functions using pyinputplus or ipywidgets here"
   ]
  },
  {
   "cell_type": "markdown",
   "id": "d643a53c",
   "metadata": {
    "id": "d643a53c"
   },
   "source": [
    "## 🧩 Main Application Logic"
   ]
  },
  {
   "cell_type": "code",
   "execution_count": null,
   "id": "a9e2e805",
   "metadata": {
    "id": "a9e2e805"
   },
   "outputs": [],
   "source": [
    "# Tie everything together here"
   ]
  },
  {
   "cell_type": "markdown",
   "id": "fde44479",
   "metadata": {
    "id": "fde44479"
   },
   "source": [
    "## 🧪 Testing and Examples"
   ]
  },
  {
   "cell_type": "code",
   "execution_count": null,
   "id": "4e573901",
   "metadata": {
    "id": "4e573901"
   },
   "outputs": [],
   "source": [
    "# Include sample input/output for each function"
   ]
  },
  {
   "cell_type": "markdown",
   "id": "d2885880",
   "metadata": {
    "id": "d2885880"
   },
   "source": [
    "## 🗂️ AI Prompting Log (Optional)\n",
    "Add markdown cells here summarising prompts used or link to AI conversations in the `ai-conversations/` folder."
   ]
  }
 ],
 "metadata": {
  "language_info": {
   "name": "python"
  },
  "colab": {
   "provenance": [],
   "include_colab_link": true
  }
 },
 "nbformat": 4,
 "nbformat_minor": 5
}
