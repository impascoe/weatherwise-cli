{
 "cells": [
  {
   "cell_type": "markdown",
   "id": "72e78a05",
   "metadata": {
    "id": "72e78a05"
   },
   "source": [
    "# 🌦️ WeatherWise – Starter Notebook\n",
    "\n",
    "Welcome to your **WeatherWise** project notebook! This scaffold is designed to help you build your weather advisor app using Python, visualisations, and AI-enhanced development.\n",
    "\n",
    "---\n",
    "\n",
    "📄 **Full Assignment Specification**  \n",
    "See [`ASSIGNMENT.md`](ASSIGNMENT.md) or check the LMS for full details.\n",
    "\n",
    "📝 **Quick Refresher**  \n",
    "A one-page summary is available in [`resources/assignment-summary.md`](resources/assignment-summary.md).\n",
    "\n",
    "---\n",
    "\n",
    "🧠 **This Notebook Structure is Optional**  \n",
    "You’re encouraged to reorganise, rename sections, or remove scaffold cells if you prefer — as long as your final version meets the requirements.\n",
    "\n",
    "✅ You may delete this note before submission.\n",
    "\n"
   ]
  },
  {
   "cell_type": "markdown",
   "id": "fa8c7f6c",
   "metadata": {
    "id": "fa8c7f6c"
   },
   "source": [
    "## 🧰 Setup and Imports\n",
    "\n",
    "This section imports commonly used packages and installs any additional tools used in the project.\n",
    "\n",
    "- You may not need all of these unless you're using specific features (e.g. visualisations, advanced prompting).\n",
    "- The notebook assumes the following packages are **pre-installed** in the provided environment or installable via pip:\n",
    "  - `requests`, `matplotlib`, `pyinputplus`\n",
    "  - `fetch-my-weather` (for accessing weather data easily)\n",
    "  - `hands-on-ai` (for AI logging, comparisons, or prompting tools)\n",
    "\n",
    "If you're running this notebook in **Google Colab**, uncomment the following lines to install the required packages.\n"
   ]
  },
  {
   "metadata": {
    "ExecuteTime": {
     "end_time": "2025-05-23T13:52:26.476918Z",
     "start_time": "2025-05-23T13:52:26.052389Z"
    }
   },
   "cell_type": "code",
   "source": [
    "\n",
    "# Installs all required packages\n",
    "!pip install -r requirements.txt\n"
   ],
   "id": "22c3877dc7165974",
   "outputs": [
    {
     "name": "stdout",
     "output_type": "stream",
     "text": [
      "Requirement already satisfied: requests~=2.32.3 in ./.venv/lib/python3.13/site-packages (from -r requirements.txt (line 1)) (2.32.3)\r\n",
      "Requirement already satisfied: matplotlib~=3.10.1 in ./.venv/lib64/python3.13/site-packages (from -r requirements.txt (line 2)) (3.10.1)\r\n",
      "Requirement already satisfied: PyInputPlus~=0.2.12 in ./.venv/lib/python3.13/site-packages (from -r requirements.txt (line 3)) (0.2.12)\r\n",
      "Requirement already satisfied: python-dotenv~=1.1.0 in ./.venv/lib/python3.13/site-packages (from -r requirements.txt (line 4)) (1.1.0)\r\n",
      "Requirement already satisfied: numpy~=2.2.5 in ./.venv/lib64/python3.13/site-packages (from -r requirements.txt (line 5)) (2.2.5)\r\n",
      "Requirement already satisfied: ipython~=9.2.0 in ./.venv/lib/python3.13/site-packages (from -r requirements.txt (line 6)) (9.2.0)\r\n",
      "Requirement already satisfied: ipywidgets~=8.1.7 in ./.venv/lib/python3.13/site-packages (from -r requirements.txt (line 7)) (8.1.7)\r\n",
      "Requirement already satisfied: charset-normalizer<4,>=2 in ./.venv/lib64/python3.13/site-packages (from requests~=2.32.3->-r requirements.txt (line 1)) (3.4.1)\r\n",
      "Requirement already satisfied: idna<4,>=2.5 in ./.venv/lib/python3.13/site-packages (from requests~=2.32.3->-r requirements.txt (line 1)) (3.10)\r\n",
      "Requirement already satisfied: urllib3<3,>=1.21.1 in ./.venv/lib/python3.13/site-packages (from requests~=2.32.3->-r requirements.txt (line 1)) (2.4.0)\r\n",
      "Requirement already satisfied: certifi>=2017.4.17 in ./.venv/lib/python3.13/site-packages (from requests~=2.32.3->-r requirements.txt (line 1)) (2025.4.26)\r\n",
      "Requirement already satisfied: contourpy>=1.0.1 in ./.venv/lib64/python3.13/site-packages (from matplotlib~=3.10.1->-r requirements.txt (line 2)) (1.3.2)\r\n",
      "Requirement already satisfied: cycler>=0.10 in ./.venv/lib/python3.13/site-packages (from matplotlib~=3.10.1->-r requirements.txt (line 2)) (0.12.1)\r\n",
      "Requirement already satisfied: fonttools>=4.22.0 in ./.venv/lib64/python3.13/site-packages (from matplotlib~=3.10.1->-r requirements.txt (line 2)) (4.57.0)\r\n",
      "Requirement already satisfied: kiwisolver>=1.3.1 in ./.venv/lib64/python3.13/site-packages (from matplotlib~=3.10.1->-r requirements.txt (line 2)) (1.4.8)\r\n",
      "Requirement already satisfied: packaging>=20.0 in ./.venv/lib/python3.13/site-packages (from matplotlib~=3.10.1->-r requirements.txt (line 2)) (25.0)\r\n",
      "Requirement already satisfied: pillow>=8 in ./.venv/lib64/python3.13/site-packages (from matplotlib~=3.10.1->-r requirements.txt (line 2)) (11.2.1)\r\n",
      "Requirement already satisfied: pyparsing>=2.3.1 in ./.venv/lib/python3.13/site-packages (from matplotlib~=3.10.1->-r requirements.txt (line 2)) (3.2.3)\r\n",
      "Requirement already satisfied: python-dateutil>=2.7 in ./.venv/lib/python3.13/site-packages (from matplotlib~=3.10.1->-r requirements.txt (line 2)) (2.9.0.post0)\r\n",
      "Requirement already satisfied: pysimplevalidate>=0.2.7 in ./.venv/lib/python3.13/site-packages (from PyInputPlus~=0.2.12->-r requirements.txt (line 3)) (0.2.12)\r\n",
      "Requirement already satisfied: stdiomask>=0.0.3 in ./.venv/lib/python3.13/site-packages (from PyInputPlus~=0.2.12->-r requirements.txt (line 3)) (0.0.6)\r\n",
      "Requirement already satisfied: decorator in ./.venv/lib/python3.13/site-packages (from ipython~=9.2.0->-r requirements.txt (line 6)) (5.2.1)\r\n",
      "Requirement already satisfied: ipython-pygments-lexers in ./.venv/lib/python3.13/site-packages (from ipython~=9.2.0->-r requirements.txt (line 6)) (1.1.1)\r\n",
      "Requirement already satisfied: jedi>=0.16 in ./.venv/lib/python3.13/site-packages (from ipython~=9.2.0->-r requirements.txt (line 6)) (0.19.2)\r\n",
      "Requirement already satisfied: matplotlib-inline in ./.venv/lib/python3.13/site-packages (from ipython~=9.2.0->-r requirements.txt (line 6)) (0.1.7)\r\n",
      "Requirement already satisfied: pexpect>4.3 in ./.venv/lib/python3.13/site-packages (from ipython~=9.2.0->-r requirements.txt (line 6)) (4.9.0)\r\n",
      "Requirement already satisfied: prompt_toolkit<3.1.0,>=3.0.41 in ./.venv/lib/python3.13/site-packages (from ipython~=9.2.0->-r requirements.txt (line 6)) (3.0.51)\r\n",
      "Requirement already satisfied: pygments>=2.4.0 in ./.venv/lib/python3.13/site-packages (from ipython~=9.2.0->-r requirements.txt (line 6)) (2.19.1)\r\n",
      "Requirement already satisfied: stack_data in ./.venv/lib/python3.13/site-packages (from ipython~=9.2.0->-r requirements.txt (line 6)) (0.6.3)\r\n",
      "Requirement already satisfied: traitlets>=5.13.0 in ./.venv/lib/python3.13/site-packages (from ipython~=9.2.0->-r requirements.txt (line 6)) (5.14.3)\r\n",
      "Requirement already satisfied: comm>=0.1.3 in ./.venv/lib/python3.13/site-packages (from ipywidgets~=8.1.7->-r requirements.txt (line 7)) (0.2.2)\r\n",
      "Requirement already satisfied: widgetsnbextension~=4.0.14 in ./.venv/lib/python3.13/site-packages (from ipywidgets~=8.1.7->-r requirements.txt (line 7)) (4.0.14)\r\n",
      "Requirement already satisfied: jupyterlab_widgets~=3.0.15 in ./.venv/lib/python3.13/site-packages (from ipywidgets~=8.1.7->-r requirements.txt (line 7)) (3.0.15)\r\n",
      "Requirement already satisfied: parso<0.9.0,>=0.8.4 in ./.venv/lib/python3.13/site-packages (from jedi>=0.16->ipython~=9.2.0->-r requirements.txt (line 6)) (0.8.4)\r\n",
      "Requirement already satisfied: ptyprocess>=0.5 in ./.venv/lib/python3.13/site-packages (from pexpect>4.3->ipython~=9.2.0->-r requirements.txt (line 6)) (0.7.0)\r\n",
      "Requirement already satisfied: wcwidth in ./.venv/lib/python3.13/site-packages (from prompt_toolkit<3.1.0,>=3.0.41->ipython~=9.2.0->-r requirements.txt (line 6)) (0.2.13)\r\n",
      "Requirement already satisfied: six>=1.5 in ./.venv/lib/python3.13/site-packages (from python-dateutil>=2.7->matplotlib~=3.10.1->-r requirements.txt (line 2)) (1.17.0)\r\n",
      "Requirement already satisfied: executing>=1.2.0 in ./.venv/lib/python3.13/site-packages (from stack_data->ipython~=9.2.0->-r requirements.txt (line 6)) (2.2.0)\r\n",
      "Requirement already satisfied: asttokens>=2.1.0 in ./.venv/lib/python3.13/site-packages (from stack_data->ipython~=9.2.0->-r requirements.txt (line 6)) (3.0.0)\r\n",
      "Requirement already satisfied: pure-eval in ./.venv/lib/python3.13/site-packages (from stack_data->ipython~=9.2.0->-r requirements.txt (line 6)) (0.2.3)\r\n",
      "\r\n",
      "\u001B[1m[\u001B[0m\u001B[34;49mnotice\u001B[0m\u001B[1;39;49m]\u001B[0m\u001B[39;49m A new release of pip is available: \u001B[0m\u001B[31;49m25.0.1\u001B[0m\u001B[39;49m -> \u001B[0m\u001B[32;49m25.1.1\u001B[0m\r\n",
      "\u001B[1m[\u001B[0m\u001B[34;49mnotice\u001B[0m\u001B[1;39;49m]\u001B[0m\u001B[39;49m To update, run: \u001B[0m\u001B[32;49mpip install --upgrade pip\u001B[0m\r\n"
     ]
    }
   ],
   "execution_count": 1
  },
  {
   "cell_type": "markdown",
   "id": "59ae7543",
   "metadata": {
    "id": "59ae7543"
   },
   "source": [
    "## 📦 Setup and Configuration\n",
    "Import required packages and setup environment."
   ]
  },
  {
   "cell_type": "code",
   "id": "f1dd051e",
   "metadata": {
    "id": "f1dd051e",
    "ExecuteTime": {
     "end_time": "2025-05-23T13:52:26.762028Z",
     "start_time": "2025-05-23T13:52:26.522142Z"
    }
   },
   "source": [
    "import os\n",
    "\n",
    "import requests\n",
    "import pyinputplus as pyip\n",
    "import math\n",
    "import matplotlib.pyplot as plt\n",
    "import numpy as np\n",
    "from dotenv import load_dotenv\n",
    "from requests import HTTPError\n",
    "import matplotlib.dates as mdates\n",
    "from datetime import datetime, timedelta\n",
    "\n",
    "# Load environment variables from .env file\n",
    "load_dotenv()\n",
    "\n",
    "api_key = os.environ.get('OPENWEATHER_API_KEY')\n",
    "\n",
    "# Add any other setup code here\n",
    "if os.environ.get('OPENWEATHER_API_KEY') is None:\n",
    "    print(\"Warning: OPENWEATHER_API_KEY not set. Please set it in your environment variables.\")\n",
    "\n",
    "    # Uncomment and replace with your actual API key if you don't want to use .env file\n",
    "    # os.environ['OPENWEATHER_API_KEY'] = 'your_api_key_here'\n",
    "\n"
   ],
   "outputs": [],
   "execution_count": 2
  },
  {
   "cell_type": "markdown",
   "id": "f736ade3",
   "metadata": {
    "id": "f736ade3"
   },
   "source": [
    "## 🌤️ Weather Data Functions"
   ]
  },
  {
   "cell_type": "code",
   "id": "7a2c7cd0",
   "metadata": {
    "id": "7a2c7cd0",
    "ExecuteTime": {
     "end_time": "2025-05-23T13:52:26.768669Z",
     "start_time": "2025-05-23T13:52:26.766560Z"
    }
   },
   "source": [
    "def get_weather_data(location, forecast_day=5):\n",
    "    \"\"\"\n",
    "    Fetch weather data for a given location and forecast day.\n",
    "\n",
    "    Args:\n",
    "        location (str): The location to fetch weather data for.\n",
    "        forecast_day (int): The number of days to forecast (default is 5).\n",
    "\n",
    "    Returns:\n",
    "        dict: Weather data for the specified location and forecast day.\n",
    "    \"\"\"\n",
    "\n",
    "    # Use OpenWeatherMap API to get weather details from location\n",
    "    try:\n",
    "        # openweathermap forecast provides 3-hourly data\n",
    "        # for 5 days, so we need to convert it to daily data\n",
    "\n",
    "        if forecast_day < 1:\n",
    "            raise ValueError(\"Forecast day must be at least 1.\")\n",
    "        if forecast_day > 5:\n",
    "            raise ValueError(\"Forecast day must be at most 5.\")\n",
    "\n",
    "        forecast_day *= 8 # 3-hourly data for 5 days\n",
    "\n",
    "        weather_data_response = requests.get(f'https://api.openweathermap.org/data/2.5/forecast?q={location},au'\n",
    "                                             f'&appid={api_key}&cnt={forecast_day}&units=metric')\n",
    "\n",
    "        # Raise an error for bad responses\n",
    "        if weather_data_response.status_code != 200:\n",
    "            if weather_data_response.status_code == 404:\n",
    "                raise HTTPError(\"Location not found. Please check the location name and try again.\")\n",
    "            else:\n",
    "                raise HTTPError(f\"Error fetching weather data: {weather_data_response.status_code}\")\n",
    "\n",
    "        # Parse the JSON response\n",
    "        weather_data = weather_data_response.json()\n",
    "\n",
    "        # Check if the response contains weather data\n",
    "        if 'list' not in weather_data:\n",
    "            raise ValueError(\"No weather data found for the specified location.\")\n",
    "\n",
    "        return weather_data\n",
    "    except ValueError as err:\n",
    "        print(err)\n",
    "        return None\n",
    "    except HTTPError as err:\n",
    "        print(err)\n",
    "        return None"
   ],
   "outputs": [],
   "execution_count": 3
  },
  {
   "cell_type": "markdown",
   "id": "8a744fdc",
   "metadata": {
    "id": "8a744fdc"
   },
   "source": [
    "## 📊 Visualisation Functions"
   ]
  },
  {
   "cell_type": "code",
   "id": "9dc3bf85",
   "metadata": {
    "id": "9dc3bf85",
    "ExecuteTime": {
     "end_time": "2025-05-23T14:33:40.818922Z",
     "start_time": "2025-05-23T14:33:40.813557Z"
    }
   },
   "source": [
    "def create_temperature_visualisation(weather_data, output_type='display', forecast_days=None):\n",
    "    \"\"\"\n",
    "    Create visualisation of temperature data.\n",
    "\n",
    "    Args:\n",
    "        weather_data (dict): The processed weather data\n",
    "        output_type (str): Either 'display' to show in notebook or 'figure' to return the figure\n",
    "\n",
    "    Returns:\n",
    "        If output_type is 'figure', returns the matplotlib figure object\n",
    "        Otherwise, displays the visualisation in the notebook\n",
    "    \"\"\"\n",
    "    # Extract temperature data from the weather data\n",
    "    try:\n",
    "\n",
    "        days = [day['main'] for day in weather_data['list']]\n",
    "        dates = [datetime.fromtimestamp(day['dt']) for day in weather_data['list']]\n",
    "        temperature = [day['temp'] for day in days]\n",
    "\n",
    "        for i in range(len(temperature)):\n",
    "            temperature[i] = math.floor(temperature[i])\n",
    "\n",
    "        # Create a plot\n",
    "        fig, ax = plt.subplots(figsize=(12, 6))\n",
    "\n",
    "        # Add day shading\n",
    "        unique_days = sorted(set([d.date() for d in dates]))\n",
    "        for i, day in enumerate(unique_days):\n",
    "            day_start = datetime.combine(day, datetime.min.time())\n",
    "            day_end = day_start + timedelta(days=1)\n",
    "            ax.axvspan(day_start, day_end, color='lightgrey' if i % 2 == 0 else 'white',\n",
    "                       alpha=0.2, zorder=0)\n",
    "\n",
    "        # Add padding to the x-axis limits\n",
    "        min_date = min(dates)\n",
    "        max_date = max(dates)\n",
    "        padding = timedelta(hours=3)  # Adjust the amount of padding as needed\n",
    "        ax.set_xlim(min_date - padding, max_date + padding)\n",
    "\n",
    "        # Check if we need to hide day names based on forecast days\n",
    "        if forecast_days is not None and forecast_days >= 4:\n",
    "            ax.xaxis.set_major_formatter(mdates.DateFormatter('%d/%m\\n%H:%M'))  # Hide day name\n",
    "        else:\n",
    "            ax.xaxis.set_major_formatter(mdates.DateFormatter('%a, %d/%m\\n%H:%M'))  # Show day name\n",
    "\n",
    "        ax.xaxis.set_major_locator(mdates.HourLocator(interval=6))\n",
    "        plt.xticks(rotation=0, ha='center', fontsize=10)\n",
    "        ax.plot(dates, temperature, marker='o', color='royalblue')\n",
    "        ax.set_title('Temperature Forecast')\n",
    "        ax.set_ylabel('Temperature (°C)', fontsize=12)\n",
    "        ax.spines['top'].set_visible(False)\n",
    "        ax.spines['right'].set_visible(False)\n",
    "        ax.grid(axis='y', linestyle='--', alpha=0.5)\n",
    "\n",
    "        if output_type == 'display':\n",
    "            plt.tight_layout()\n",
    "            plt.show()\n",
    "            return None\n",
    "        else:\n",
    "            return fig  # Return the figure object\n",
    "    except KeyError as e:\n",
    "        print(f\"Error processing weather data: {e}\")\n",
    "        return None\n",
    "\n",
    "def create_precipitation_visualisation(weather_data, output_type='display', forecast_days=None):\n",
    "    \"\"\"\n",
    "    Create visualisation of precipitation data.\n",
    "\n",
    "    Args:\n",
    "        weather_data (dict): The processed weather data\n",
    "        output_type (str): Either 'display' to show in notebook or 'figure' to return the figure\n",
    "\n",
    "    Returns:\n",
    "        If output_type is 'figure', returns the matplotlib figure object\n",
    "        Otherwise, displays the visualisation in the notebook\n",
    "    \"\"\"\n",
    "    # Extract precipitation data from the weather data\n",
    "    try:\n",
    "        dates = [datetime.fromtimestamp(day['dt']) for day in weather_data['list']]\n",
    "\n",
    "        # Extract precipitation data (mm)\n",
    "        precipitation = []\n",
    "        for day in weather_data['list']:\n",
    "            # Get rain amount for 3h period (if exists)\n",
    "            if 'rain' in day and '3h' in day['rain']:\n",
    "                precipitation.append(day['rain']['3h'])\n",
    "            else:\n",
    "                # No rain in this period\n",
    "                precipitation.append(0)\n",
    "\n",
    "        # Create a plot\n",
    "        fig, ax = plt.subplots(figsize=(12, 6))\n",
    "\n",
    "        # Add day shading\n",
    "        unique_days = sorted(set([d.date() for d in dates]))\n",
    "        for i, day in enumerate(unique_days):\n",
    "            day_start = datetime.combine(day, datetime.min.time())\n",
    "            day_end = day_start + timedelta(days=1)\n",
    "            ax.axvspan(day_start, day_end, color='lightgrey' if i % 2 == 0 else 'white',\n",
    "                       alpha=0.2, zorder=0)\n",
    "\n",
    "        # Add padding to the x-axis limits\n",
    "        min_date = min(dates)\n",
    "        max_date = max(dates)\n",
    "        padding = timedelta(hours=3)  # Adjust the amount of padding as needed\n",
    "        ax.set_xlim(min_date - padding, max_date + padding)\n",
    "        ax.xaxis.set_major_locator(mdates.HourLocator(interval=6))\n",
    "\n",
    "        # Check if we need to hide day names based on forecast days\n",
    "        if forecast_days is not None and forecast_days >= 4:\n",
    "            ax.xaxis.set_major_formatter(mdates.DateFormatter('%d/%m\\n%H:%M'))  # Hide day name\n",
    "        else:\n",
    "            ax.xaxis.set_major_formatter(mdates.DateFormatter('%a, %d/%m\\n%H:%M'))  # Show day name\n",
    "\n",
    "        plt.xticks(rotation=0, ha='center', fontsize=10)\n",
    "\n",
    "        # Plot precipitation as bar chart\n",
    "        ax.bar(dates, precipitation, width=0.1, color='skyblue', alpha=0.7)\n",
    "\n",
    "        ax.set_title('Precipitation Forecast')\n",
    "        ax.set_ylabel('Precipitation (mm)', fontsize=12)\n",
    "        ax.spines['top'].set_visible(False)\n",
    "        ax.spines['right'].set_visible(False)\n",
    "        ax.grid(axis='y', linestyle='--', alpha=0.5)\n",
    "\n",
    "        if output_type == 'display':\n",
    "            plt.tight_layout()\n",
    "            plt.show()\n",
    "            return None\n",
    "        else:\n",
    "            return fig  # Return the figure object\n",
    "    except KeyError as e:\n",
    "        print(f\"Error processing weather data: {e}\")\n",
    "        return None"
   ],
   "outputs": [],
   "execution_count": 51
  },
  {
   "cell_type": "markdown",
   "id": "9f95d160",
   "metadata": {
    "id": "9f95d160"
   },
   "source": [
    "## 🤖 Natural Language Processing"
   ]
  },
  {
   "cell_type": "code",
   "id": "bcc5833e",
   "metadata": {
    "id": "bcc5833e",
    "ExecuteTime": {
     "end_time": "2025-05-23T13:52:26.856241Z",
     "start_time": "2025-05-23T13:52:26.854615Z"
    }
   },
   "source": [
    "from hands_on_ai.chat import get_response\n",
    "\n",
    "def parse_weather_question(question):\n",
    "    \"\"\"\n",
    "    Parse the weather question and extract relevant information using hands-on-ai.\n",
    "\n",
    "    Args:\n",
    "        question (str): The weather question to parse.\n",
    "\n",
    "    Returns:\n",
    "        dict: Parsed information from the question.\n",
    "    \"\"\"\n",
    "    # Prompt to extract structured information from the question\n",
    "    prompt = f\"\"\"\n",
    "    Extract the following information from this weather question: \"{question}\"\n",
    "\n",
    "    1. Location (default to Perth if not specified)\n",
    "    2. Time period (today, tomorrow, specific day, etc.)\n",
    "    3. Weather attribute (temperature, rain, humidity, etc.)\n",
    "\n",
    "    Return as a JSON object with these fields: location, time_period, attribute\n",
    "    \"\"\"\n",
    "\n",
    "    try:\n",
    "        # Get structured response from LLM\n",
    "        response = get_response(prompt=prompt, model=\"llama3\")\n",
    "\n",
    "        # Simple parsing of the response - in production you'd want more robust parsing\n",
    "        import json\n",
    "        import re\n",
    "\n",
    "        # Try to extract JSON from the response\n",
    "        json_match = re.search(r'\\{.*\\}', response, re.DOTALL)\n",
    "        if json_match:\n",
    "            parsed = json.loads(json_match.group(0))\n",
    "            # Set defaults for missing values\n",
    "            parsed.setdefault(\"location\", \"Perth\")\n",
    "            parsed.setdefault(\"time_period\", \"today\")\n",
    "            parsed.setdefault(\"attribute\", \"temperature\")\n",
    "            return parsed\n",
    "        else:\n",
    "            return {\"location\": \"Perth\", \"time_period\": \"today\", \"attribute\": \"temperature\"}\n",
    "\n",
    "    except Exception as e:\n",
    "        print(f\"Error parsing question: {e}\")\n",
    "        return {\"location\": \"Perth\", \"time_period\": \"today\", \"attribute\": \"temperature\"}\n",
    "\n",
    "def generate_weather_response(parsed_question):\n",
    "    \"\"\"\n",
    "    Generate a weather response based on the parsed question.\n",
    "    Args:\n",
    "        parsed_question (dict): Parsed information from the question.\n",
    "    Returns:\n",
    "        str: Generated weather response.\n",
    "    \"\"\"\n",
    "    # Placeholder for response generation logic\n",
    "    location = parsed_question.get(\"location\", \"Perth\")"
   ],
   "outputs": [],
   "execution_count": 5
  },
  {
   "cell_type": "markdown",
   "id": "0d85225e",
   "metadata": {
    "id": "0d85225e"
   },
   "source": [
    "## 🧭 User Interface"
   ]
  },
  {
   "cell_type": "code",
   "id": "fa6cb0f6",
   "metadata": {
    "id": "fa6cb0f6",
    "ExecuteTime": {
     "end_time": "2025-05-23T14:34:22.824877Z",
     "start_time": "2025-05-23T14:34:22.820187Z"
    }
   },
   "source": [
    "from IPython.display import display\n",
    "import ipywidgets as widgets\n",
    "\n",
    "def create_weather_app():\n",
    "    # Create main container for all outputs\n",
    "    main_output = widgets.Output()\n",
    "\n",
    "    # Create view containers\n",
    "    main_menu_view = widgets.VBox()\n",
    "    weather_widget_view = widgets.VBox()\n",
    "    ai_mode_view = widgets.VBox()\n",
    "\n",
    "    # --- MAIN MENU VIEW ---\n",
    "    weather_button = widgets.Button(description='Widget Mode')\n",
    "    ai_button = widgets.Button(description='AI Query Mode')\n",
    "    main_menu_view.children = [\n",
    "        widgets.HTML(\"<h2>WeatherWise</h2>\"),\n",
    "        widgets.HTML(\"<p>Select a mode:</p>\"),\n",
    "        weather_button,\n",
    "        ai_button\n",
    "    ]\n",
    "\n",
    "    # --- WEATHER WIDGET VIEW ---\n",
    "    location = widgets.Text(description='Location:', value='Perth')\n",
    "    forecast_day = widgets.IntSlider(min=1, max=5, description='Forecast Days:', value=3)\n",
    "\n",
    "    # Graph selection using checkboxes\n",
    "    show_temp = widgets.Checkbox(value=True, description='Temperature Graph')\n",
    "    show_precip = widgets.Checkbox(value=False, description='Precipitation Graph')\n",
    "    graph_options = widgets.HBox([show_temp, show_precip])\n",
    "\n",
    "    back_button_weather = widgets.Button(description='Back to Main Menu')\n",
    "    generate_button = widgets.Button(description='Generate Forecast')\n",
    "    graphs_output = widgets.Output()\n",
    "\n",
    "    weather_widget_view.children = [\n",
    "        widgets.HTML(\"<h2>Weather Forecast</h2>\"),\n",
    "        location, forecast_day,\n",
    "        widgets.HTML(\"<p>Select graphs to display:</p>\"),\n",
    "        graph_options,\n",
    "        widgets.HBox([generate_button, back_button_weather]),\n",
    "        graphs_output\n",
    "    ]\n",
    "\n",
    "    # --- AI MODE VIEW ---\n",
    "    query_text = widgets.Text(description='Question:', placeholder='Ask about weather...')\n",
    "    query_button = widgets.Button(description='Ask')\n",
    "    ai_output = widgets.Output()\n",
    "    back_button_ai = widgets.Button(description='Back to Main Menu')\n",
    "\n",
    "    ai_mode_view.children = [\n",
    "        widgets.HTML(\"<h2>AI Weather Assistant</h2>\"),\n",
    "        query_text,\n",
    "        widgets.HBox([query_button, back_button_ai]),\n",
    "        ai_output\n",
    "    ]\n",
    "\n",
    "    # --- NAVIGATION FUNCTIONS ---\n",
    "    def show_main_menu(_):\n",
    "        with main_output:\n",
    "            main_output.clear_output()\n",
    "            display(main_menu_view)\n",
    "\n",
    "    def show_weather_widgets(_):\n",
    "        with main_output:\n",
    "            main_output.clear_output()\n",
    "            display(weather_widget_view)\n",
    "\n",
    "    def show_ai_mode(_):\n",
    "        with main_output:\n",
    "            main_output.clear_output()\n",
    "            display(ai_mode_view)\n",
    "\n",
    "    # --- GENERATE WEATHER FORECAST ---\n",
    "    def generate_weather(_):\n",
    "        with graphs_output:\n",
    "            graphs_output.clear_output()\n",
    "            weather_data = get_weather_data(location.value, forecast_day.value)\n",
    "\n",
    "            if weather_data:\n",
    "                if show_temp.value:\n",
    "                    create_temperature_visualisation(weather_data,\n",
    "                                                     output_type='display', forecast_days=forecast_day.value)\n",
    "\n",
    "                if show_precip.value:\n",
    "                    create_precipitation_visualisation(weather_data, output_type='display', forecast_days=forecast_day.value)\n",
    "\n",
    "                if not (show_temp.value or show_precip.value):\n",
    "                    print(\"Please select at least one graph type\")\n",
    "            else:\n",
    "                print(f\"Failed to fetch weather data for {location.value}.\")\n",
    "\n",
    "    # --- AI RESPONSE GENERATION ---\n",
    "    def generate_ai_response(_):\n",
    "        with ai_output:\n",
    "            ai_output.clear_output()\n",
    "            question = query_text.value\n",
    "            parsed = parse_weather_question(question)\n",
    "            # Your AI response code here\n",
    "            print(f\"Analyzing: {question}\")\n",
    "\n",
    "    # Connect button callbacks\n",
    "    weather_button.on_click(show_weather_widgets)\n",
    "    ai_button.on_click(show_ai_mode)\n",
    "    back_button_weather.on_click(show_main_menu)\n",
    "    back_button_ai.on_click(show_main_menu)\n",
    "    generate_button.on_click(generate_weather)\n",
    "    query_button.on_click(generate_ai_response)\n",
    "\n",
    "    # Start with main menu\n",
    "    show_main_menu(None)\n",
    "    return main_output\n"
   ],
   "outputs": [],
   "execution_count": 53
  },
  {
   "cell_type": "markdown",
   "id": "d643a53c",
   "metadata": {
    "id": "d643a53c"
   },
   "source": [
    "## 🧩 Main Application Logic"
   ]
  },
  {
   "cell_type": "code",
   "id": "a9e2e805",
   "metadata": {
    "id": "a9e2e805",
    "ExecuteTime": {
     "end_time": "2025-05-23T14:15:34.216191Z",
     "start_time": "2025-05-23T14:15:34.214701Z"
    }
   },
   "source": [
    "def main():\n",
    "    display(create_weather_app())"
   ],
   "outputs": [],
   "execution_count": 24
  },
  {
   "cell_type": "markdown",
   "id": "fde44479",
   "metadata": {
    "id": "fde44479"
   },
   "source": [
    "## 🧪 Testing and Examples"
   ]
  },
  {
   "cell_type": "code",
   "id": "4e573901",
   "metadata": {
    "id": "4e573901",
    "ExecuteTime": {
     "end_time": "2025-05-23T14:34:26.967969Z",
     "start_time": "2025-05-23T14:34:26.956556Z"
    }
   },
   "source": [
    "main()\n",
    "# weather_data_response = requests.get(f'https://api.openweathermap.org/data/2.5/forecast?q=Broome,au'\n",
    "#                                      f'&appid={api_key}&cnt=5&units=metric')\n",
    "# print(weather_data_response.json())\n",
    "# create_precipitation_visualisation(weather_data_response.json(), output_type='display')"
   ],
   "outputs": [
    {
     "data": {
      "text/plain": [
       "Output()"
      ],
      "application/vnd.jupyter.widget-view+json": {
       "version_major": 2,
       "version_minor": 0,
       "model_id": "11373dcd9d684b7b9403f2124b044713"
      }
     },
     "metadata": {},
     "output_type": "display_data"
    }
   ],
   "execution_count": 54
  },
  {
   "cell_type": "markdown",
   "id": "d2885880",
   "metadata": {
    "id": "d2885880"
   },
   "source": [
    "## 🗂️ AI Prompting Log (Optional)\n",
    "Add markdown cells here summarising prompts used or link to AI conversations in the `ai-conversations/` folder."
   ]
  },
  {
   "metadata": {},
   "cell_type": "code",
   "source": [
    "import hands_on_ai.chat\n",
    "from hands_on_ai.chat import get_response\n",
    "\n",
    "response = get_response(prompt=\"hello there\", model=\"llama3\")\n",
    "print(response)\n"
   ],
   "id": "54680c00f2490cd4",
   "outputs": [],
   "execution_count": null
  },
  {
   "metadata": {},
   "cell_type": "code",
   "source": [
    "from hands_on_ai.config import load_config, get_server_url, get_model, save_config\n",
    "\n",
    "# Get configuration values\n",
    "config = load_config()  # Returns dict with all config\n",
    "model = get_model()     # Get default LLM model\n",
    "server = get_server_url()  # Get Ollama server URL\n",
    "\n",
    "# Print configuration values\n",
    "print(f\"Model: {model}\")\n",
    "print(f\"Server URL: {server}\")\n",
    "\n",
    "config[\"model\"] = \"llama3\"\n",
    "save_config(config)\n"
   ],
   "id": "d68e54d6dfac822f",
   "outputs": [],
   "execution_count": null
  }
 ],
 "metadata": {
  "language_info": {
   "name": "python"
  },
  "colab": {
   "provenance": [],
   "include_colab_link": true
  }
 },
 "nbformat": 4,
 "nbformat_minor": 5
}
